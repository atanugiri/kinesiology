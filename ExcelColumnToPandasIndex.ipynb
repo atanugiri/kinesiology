{
 "cells": [
  {
   "cell_type": "code",
   "execution_count": 7,
   "id": "7019f9b9-9d3a-4857-9adf-1bedbe552dac",
   "metadata": {},
   "outputs": [
    {
     "name": "stdout",
     "output_type": "stream",
     "text": [
      "Pandas index for column DH is 111\n"
     ]
    }
   ],
   "source": [
    "import string\n",
    "\n",
    "# Generate Excel column mapping\n",
    "excel_columns = list(string.ascii_uppercase) + [\n",
    "    f\"{i}{j}\" for i in string.ascii_uppercase for j in string.ascii_uppercase\n",
    "]\n",
    "\n",
    "# Find pandas index for column V\n",
    "excel_column = \"DH\"\n",
    "pandas_index = excel_columns.index(excel_column)\n",
    "print(f\"Pandas index for column {excel_column} is {pandas_index}\")"
   ]
  },
  {
   "cell_type": "code",
   "execution_count": 1,
   "id": "cd4b0892-8f97-444d-94d3-b05627ca64ef",
   "metadata": {},
   "outputs": [
    {
     "name": "stdout",
     "output_type": "stream",
     "text": [
      "\n",
      "# conda environments:\n",
      "#\n",
      "base                   /Users/atanugiri/miniconda3\n",
      "da24                 * /Users/atanugiri/miniconda3/envs/da24\n",
      "pytorch-course         /Users/atanugiri/miniconda3/envs/pytorch-course\n",
      "\n"
     ]
    }
   ],
   "source": [
    "!conda env list"
   ]
  },
  {
   "cell_type": "code",
   "execution_count": null,
   "id": "68b945c8-30ad-43d6-9a6d-b37f628a37d5",
   "metadata": {},
   "outputs": [],
   "source": []
  }
 ],
 "metadata": {
  "kernelspec": {
   "display_name": "Python (da24)",
   "language": "python",
   "name": "da24"
  },
  "language_info": {
   "codemirror_mode": {
    "name": "ipython",
    "version": 3
   },
   "file_extension": ".py",
   "mimetype": "text/x-python",
   "name": "python",
   "nbconvert_exporter": "python",
   "pygments_lexer": "ipython3",
   "version": "3.10.13"
  }
 },
 "nbformat": 4,
 "nbformat_minor": 5
}
